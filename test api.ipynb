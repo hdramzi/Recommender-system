{
 "cells": [
  {
   "cell_type": "code",
   "execution_count": 1,
   "metadata": {},
   "outputs": [
    {
     "name": "stderr",
     "output_type": "stream",
     "text": [
      "C:\\Users\\RAMZI\\Anaconda3\\lib\\site-packages\\h5py\\__init__.py:36: FutureWarning: Conversion of the second argument of issubdtype from `float` to `np.floating` is deprecated. In future, it will be treated as `np.float64 == np.dtype(float).type`.\n",
      "  from ._conv import register_converters as _register_converters\n",
      "Using TensorFlow backend.\n"
     ]
    }
   ],
   "source": [
    "import requests\n",
    "from time import sleep \n",
    "import numpy as np\n",
    "from keras.callbacks import EarlyStopping\n",
    "user_id= '0SIMZCTG7KZACJPQB7FU'\n",
    "base_url='http://52.47.62.31'\n",
    "url_reset=base_url+'/reset'\n",
    "url_predict=base_url+'/predict'\n",
    "params={'user_id':user_id}\n",
    "data= requests.get(url_reset, params=params).json()\n",
    "nb_users=data['nb_users']\n",
    "nb_items=data['nb_items']\n",
    "rating_history=data['rating_history']\n",
    "item_history=data['item_history']\n",
    "next_user=data['next_user']\n",
    "next_item=data['next_item']\n",
    "user_history=data['user_history']\n",
    "params={'rating_history':rating_history,'item_history':item_history,'user_history':user_history}\n",
    "#data= requests.get(\"http://3.17.208.187/train\", params=params).json()\n",
    "#print(data)"
   ]
  },
  {
   "cell_type": "code",
   "execution_count": null,
   "metadata": {},
   "outputs": [],
   "source": []
  },
  {
   "cell_type": "code",
   "execution_count": 9,
   "metadata": {},
   "outputs": [
    {
     "name": "stdout",
     "output_type": "stream",
     "text": [
      "Saved model to disk\n",
      "Wall time: 4.81 s\n"
     ]
    }
   ],
   "source": [
    "%%time\n",
    "train={'nb_users':nb_users,'nb_items':nb_items,'rating_history':rating_history,'item_history':item_history,'user_history':user_history}\n",
    "\n",
    "data=requests.post(\"http://18.225.31.12:5002/train\", json=train)\n",
    "print(data.text)"
   ]
  },
  {
   "cell_type": "code",
   "execution_count": 12,
   "metadata": {},
   "outputs": [
    {
     "name": "stdout",
     "output_type": "stream",
     "text": [
      "2.9113092\n",
      "2.9113092\n",
      "2.9113092\n",
      "2.9113092\n",
      "2.9113092\n",
      "2.9113092\n",
      "2.9113092\n",
      "2.9113092\n",
      "2.9113092\n",
      "2.9113092\n",
      "2.9113092\n",
      "2.9113092\n",
      "2.9113092\n",
      "2.9113092\n",
      "2.9113092\n",
      "2.9113092\n",
      "2.9113092\n",
      "2.9113092\n",
      "2.9113092\n",
      "2.9113092\n",
      "2.9113092\n",
      "2.9113092\n",
      "2.9113092\n",
      "2.9113092\n",
      "2.9113092\n",
      "2.9113092\n",
      "2.9113092\n",
      "2.9113092\n",
      "2.9113092\n",
      "2.9113092\n",
      "2.9113092\n",
      "2.9113092\n",
      "2.9113092\n",
      "2.9113092\n",
      "2.9113092\n",
      "2.9113092\n",
      "2.9113092\n",
      "2.9113092\n",
      "2.9113092\n",
      "2.9113092\n",
      "2.9113092\n",
      "2.9113092\n",
      "2.9113092\n",
      "2.9113092\n",
      "2.9113092\n",
      "2.9113092\n",
      "2.9113092\n",
      "2.9113092\n",
      "2.9113092\n",
      "2.9113092\n",
      "2.9113092\n",
      "2.9113092\n",
      "2.9113092\n",
      "2.9113092\n",
      "2.9113092\n",
      "2.9113092\n",
      "2.9113092\n",
      "2.9113092\n",
      "2.9113092\n",
      "2.9113092\n",
      "2.9113092\n",
      "2.9113092\n",
      "2.9113092\n",
      "2.9113092\n",
      "2.9113092\n",
      "2.9113092\n",
      "2.9113092\n",
      "2.9113092\n",
      "2.9113092\n",
      "2.9113092\n",
      "2.9113092\n",
      "2.9113092\n",
      "2.9113092\n",
      "2.9113092\n",
      "2.9113092\n",
      "2.9113092\n",
      "2.9113092\n",
      "2.9113092\n",
      "2.9113092\n",
      "2.9113092\n",
      "2.9113092\n",
      "2.9113092\n",
      "2.9113092\n",
      "2.9113092\n",
      "2.9113092\n",
      "2.9113092\n",
      "2.9113092\n",
      "2.9113092\n",
      "2.9113092\n",
      "2.9113092\n",
      "2.9113092\n",
      "2.9113092\n",
      "2.9113092\n",
      "2.9113092\n",
      "2.9113092\n",
      "2.9113092\n",
      "2.9113092\n",
      "2.9113092\n",
      "2.9113092\n",
      "2.9113092\n",
      "Wall time: 2min 12s\n"
     ]
    }
   ],
   "source": [
    "%%time\n",
    "predict={'user':next_user,'item':next_item}\n",
    "for i in range(100):\n",
    "    sleep(0.1)\n",
    "    data=requests.post(\"http://18.225.31.12:5002/predict\", json=predict).json()\n",
    "    print(data['rating'])"
   ]
  },
  {
   "cell_type": "code",
   "execution_count": null,
   "metadata": {},
   "outputs": [],
   "source": []
  }
 ],
 "metadata": {
  "kernelspec": {
   "display_name": "Python 3",
   "language": "python",
   "name": "python3"
  },
  "language_info": {
   "codemirror_mode": {
    "name": "ipython",
    "version": 3
   },
   "file_extension": ".py",
   "mimetype": "text/x-python",
   "name": "python",
   "nbconvert_exporter": "python",
   "pygments_lexer": "ipython3",
   "version": "3.6.5"
  }
 },
 "nbformat": 4,
 "nbformat_minor": 2
}
