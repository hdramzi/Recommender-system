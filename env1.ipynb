{
 "cells": [
  {
   "cell_type": "code",
   "execution_count": 1,
   "metadata": {},
   "outputs": [],
   "source": [
    "def Our_model():\n",
    "    from keras.layers import Input, Embedding, Flatten, Dot, Dense, Dropout\n",
    "    from keras.models import Model\n",
    "    # For each sample we input the integer identifiers\n",
    "    # of a single user and a single item\n",
    "    user_id_input = Input(shape=[1],name='user')\n",
    "    item_id_input = Input(shape=[1], name='item')\n",
    "\n",
    "    embedding_size = 30\n",
    "    user_embedding = Embedding(output_dim=embedding_size, input_dim=nb_users + 1,\n",
    "                               input_length=1, name='user_embedding')(user_id_input)\n",
    "\n",
    "    item_embedding = Embedding(output_dim=embedding_size, input_dim=nb_items + 1,\n",
    "                               input_length=1, name='item_embedding')(item_id_input)\n",
    "\n",
    "    # reshape from shape: (batch_size, input_length, embedding_size)\n",
    "    # to shape: (batch_size, input_length * embedding_size) which is\n",
    "    # equal to shape: (batch_size, embedding_size)\n",
    "    user_vecs = Flatten()(user_embedding)\n",
    "    item_vecs = Flatten()(item_embedding)\n",
    "\n",
    "    y = Dot(axes=1)([user_vecs, item_vecs])\n",
    "    x = Dense(64, activation='relu')(y)\n",
    "    x = Dropout(0.5)(x)\n",
    "    x = Dense(32, activation='relu')(x)\n",
    "    y = Dense(1)(x)\n",
    "    model = Model(inputs=[user_id_input, item_id_input], outputs=y)\n",
    "    model.compile(optimizer=\"adam\", loss=\"MAE\")\n",
    "    return model"
   ]
  },
  {
   "cell_type": "code",
   "execution_count": 2,
   "metadata": {},
   "outputs": [
    {
     "name": "stderr",
     "output_type": "stream",
     "text": [
      "C:\\Users\\RAMZI\\Anaconda3\\lib\\site-packages\\h5py\\__init__.py:36: FutureWarning: Conversion of the second argument of issubdtype from `float` to `np.floating` is deprecated. In future, it will be treated as `np.float64 == np.dtype(float).type`.\n",
      "  from ._conv import register_converters as _register_converters\n",
      "Using TensorFlow backend.\n"
     ]
    },
    {
     "name": "stdout",
     "output_type": "stream",
     "text": [
      "Train on 9000 samples, validate on 1000 samples\n",
      "Epoch 1/20\n",
      "9000/9000 [==============================] - 1s 61us/step - loss: 1.7595 - val_loss: 1.1422\n",
      "Epoch 2/20\n",
      "9000/9000 [==============================] - 0s 23us/step - loss: 1.1532 - val_loss: 0.8334\n",
      "Epoch 3/20\n",
      "9000/9000 [==============================] - 0s 23us/step - loss: 0.6850 - val_loss: 0.5320\n",
      "Epoch 4/20\n",
      "9000/9000 [==============================] - 0s 23us/step - loss: 0.5139 - val_loss: 0.4646\n",
      "Epoch 5/20\n",
      "9000/9000 [==============================] - 0s 28us/step - loss: 0.4164 - val_loss: 0.4241\n",
      "Epoch 6/20\n",
      "9000/9000 [==============================] - 0s 27us/step - loss: 0.3734 - val_loss: 0.4077\n",
      "Epoch 7/20\n",
      "9000/9000 [==============================] - 0s 21us/step - loss: 0.3492 - val_loss: 0.3935\n",
      "Epoch 8/20\n",
      "9000/9000 [==============================] - 0s 21us/step - loss: 0.3309 - val_loss: 0.3906\n",
      "Epoch 9/20\n",
      "9000/9000 [==============================] - 0s 23us/step - loss: 0.3109 - val_loss: 0.3645\n",
      "Epoch 10/20\n",
      "9000/9000 [==============================] - 0s 21us/step - loss: 0.2861 - val_loss: 0.3619\n",
      "Epoch 11/20\n",
      "9000/9000 [==============================] - 0s 22us/step - loss: 0.2673 - val_loss: 0.3496\n",
      "Epoch 12/20\n",
      "9000/9000 [==============================] - 0s 24us/step - loss: 0.2578 - val_loss: 0.3548\n",
      "Epoch 13/20\n",
      "9000/9000 [==============================] - 0s 24us/step - loss: 0.2434 - val_loss: 0.3452\n",
      "Epoch 14/20\n",
      "9000/9000 [==============================] - 0s 18us/step - loss: 0.2306 - val_loss: 0.3478\n",
      "Epoch 15/20\n",
      "9000/9000 [==============================] - 0s 18us/step - loss: 0.2228 - val_loss: 0.3391\n",
      "Epoch 16/20\n",
      "9000/9000 [==============================] - 0s 17us/step - loss: 0.2161 - val_loss: 0.3392\n",
      "Epoch 17/20\n",
      "9000/9000 [==============================] - 0s 18us/step - loss: 0.2042 - val_loss: 0.3399\n",
      "mse:  [[0.22010796]]\n",
      "mae:  [[0.33315188]]\n"
     ]
    }
   ],
   "source": [
    "\n",
    "import requests\n",
    "from time import sleep \n",
    "import numpy as np\n",
    "from keras.callbacks import EarlyStopping\n",
    "user_id= '0SIMZCTG7KZACJPQB7FU'\n",
    "base_url='http://52.47.62.31'\n",
    "url_reset=base_url+'/reset'\n",
    "url_predict=base_url+'/predict'\n",
    "params={'user_id':user_id}\n",
    "data= requests.get(url_reset, params=params).json()\n",
    "nb_users=data['nb_users']\n",
    "nb_items=data['nb_items']\n",
    "rating_history=data['rating_history']\n",
    "item_history=data['item_history']\n",
    "next_user=data['next_user']\n",
    "next_item=data['next_item']\n",
    "#prediction=3\n",
    "#params['predicted_score']=prediction\n",
    "nb_samples=1000\n",
    "mse,mae=0,0\n",
    "user_history=data['user_history']\n",
    "model=Our_model()\n",
    "early_stopping = EarlyStopping(monitor='val_loss', patience=2)\n",
    "history = model.fit([user_history, item_history], rating_history,\n",
    "                    batch_size=64, epochs=20, validation_split=0.1,\n",
    "                    shuffle=True, callbacks=[early_stopping])\n",
    "for i in range(nb_samples):\n",
    "    sleep(0.05)\n",
    "    prediction = model.predict([np.array([next_user]), np.array([next_item])] )\n",
    "    params['predicted_score']=prediction\n",
    "    d=requests.get(url_predict, params=params).json()\n",
    "    rating=d['rating']\n",
    "    #print(f'user:{next_user},item:{next_item},rating:{rating},prediction:{prediction}')\n",
    "    next_user=d['next_user']\n",
    "    next_item=d['next_item']\n",
    "    mse+=(rating-prediction)**2\n",
    "    mae+=abs(rating-prediction)\n",
    "print('mse: ', mse/nb_samples)\n",
    "print('mae: ', mae/nb_samples)"
   ]
  },
  {
   "cell_type": "code",
   "execution_count": null,
   "metadata": {},
   "outputs": [],
   "source": []
  },
  {
   "cell_type": "code",
   "execution_count": null,
   "metadata": {},
   "outputs": [],
   "source": []
  }
 ],
 "metadata": {
  "kernelspec": {
   "display_name": "Python 3",
   "language": "python",
   "name": "python3"
  },
  "language_info": {
   "codemirror_mode": {
    "name": "ipython",
    "version": 3
   },
   "file_extension": ".py",
   "mimetype": "text/x-python",
   "name": "python",
   "nbconvert_exporter": "python",
   "pygments_lexer": "ipython3",
   "version": "3.6.5"
  }
 },
 "nbformat": 4,
 "nbformat_minor": 2
}
